{
 "cells": [
  {
   "cell_type": "markdown",
   "id": "8d7ac444-dbfd-4026-af3d-422322983779",
   "metadata": {},
   "source": [
    "# OCaml 入門"
   ]
  },
  {
   "cell_type": "markdown",
   "id": "7962c292-a244-4deb-86a5-f53dd562f7a7",
   "metadata": {},
   "source": [
    "# 基礎文法"
   ]
  },
  {
   "cell_type": "code",
   "execution_count": 4,
   "id": "00e05369-265e-4054-954b-eec77051706d",
   "metadata": {},
   "outputs": [
    {
     "data": {
      "text/plain": [
       "- : int = 6\n"
      ]
     },
     "execution_count": 4,
     "metadata": {},
     "output_type": "execute_result"
    }
   ],
   "source": [
    "1+2+3;;"
   ]
  },
  {
   "cell_type": "code",
   "execution_count": 3,
   "id": "80d6c0ec-7204-40ed-a1d2-e0c8cad2b9fa",
   "metadata": {},
   "outputs": [
    {
     "data": {
      "text/plain": [
       "- : bool = true\n"
      ]
     },
     "execution_count": 3,
     "metadata": {},
     "output_type": "execute_result"
    }
   ],
   "source": [
    "5 < 9;;"
   ]
  },
  {
   "cell_type": "code",
   "execution_count": 5,
   "id": "5d5b1fa5-d7b9-452e-80da-2a5c4a4599de",
   "metadata": {},
   "outputs": [
    {
     "data": {
      "text/plain": [
       "val x : int = 27\n"
      ]
     },
     "execution_count": 5,
     "metadata": {},
     "output_type": "execute_result"
    }
   ],
   "source": [
    "let x = 1+20/2+3*6-2;;"
   ]
  }
 ],
 "metadata": {
  "kernelspec": {
   "display_name": "OCaml default",
   "language": "OCaml",
   "name": "ocaml-jupyter-default"
  },
  "language_info": {
   "codemirror_mode": "text/x-ocaml",
   "file_extension": ".ml",
   "mimetype": "text/x-ocaml",
   "name": "OCaml",
   "nbconverter_exporter": null,
   "pygments_lexer": "OCaml",
   "version": "4.14.0"
  }
 },
 "nbformat": 4,
 "nbformat_minor": 5
}
